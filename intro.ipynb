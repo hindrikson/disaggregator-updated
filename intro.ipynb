{
 "cells": [
  {
   "cell_type": "markdown",
   "id": "eb2e6586",
   "metadata": {},
   "source": [
    "# DemandRegio Disaggregator\n",
    "\n",
    "The DamendRegio project aims to disaggregate the final energy consumption of the sectors:\n",
    "- Industry\n",
    "- Commercial, Trade and Services (CTS)\n",
    "- Private Household\n",
    "into a high spacial and temporal resolution.\n",
    "\n",
    "This project includes:\n",
    "- The energy carriers: power, gas, petrol products for the industry and CTS sector\n",
    "- Electricity consumption of the private households for electric vehicles"
   ]
  },
  {
   "cell_type": "markdown",
   "id": "64a8003d",
   "metadata": {
    "lines_to_next_cell": 2
   },
   "source": [
    "## Structure of the Disaggregator\n",
    "### General\n",
    "The Disaggregator is structured in the following way:\n",
    "- src/pipeline/*: Contains the main functions of the Disaggregator. Pipeline functions combining the data_processing functions to generate wanted the data\n",
    "- src/data_processing/*: Contains the data manipulation functions\n",
    "- src/configs/*: Contains the configuration files and mappings\n",
    "- data/raw/*: Contains the raw input data\n",
    "- src/data_access/*: Contains the data access functions (API client and local file reader)\n",
    "- src/utils/*: Contains the utility and execution functions\n",
    "- data/processed/*: Contains cached data to avoid recomputing the data\n",
    "- data/output/*: Contains the output data"
   ]
  }
 ],
 "metadata": {
  "jupytext": {
   "cell_metadata_filter": "-all",
   "main_language": "python",
   "notebook_metadata_filter": "-all"
  },
  "kernelspec": {
   "display_name": "disag",
   "language": "python",
   "name": "myenv"
  },
  "language_info": {
   "codemirror_mode": {
    "name": "ipython",
    "version": 3
   },
   "file_extension": ".py",
   "mimetype": "text/x-python",
   "name": "python",
   "nbconvert_exporter": "python",
   "pygments_lexer": "ipython3",
   "version": "3.11.13"
  }
 },
 "nbformat": 4,
 "nbformat_minor": 5
}
